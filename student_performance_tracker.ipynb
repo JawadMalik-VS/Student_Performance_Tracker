{
  "nbformat": 4,
  "nbformat_minor": 0,
  "metadata": {
    "colab": {
      "provenance": []
    },
    "kernelspec": {
      "name": "python3",
      "display_name": "Python 3"
    },
    "language_info": {
      "name": "python"
    }
  },
  "cells": [
    {
      "cell_type": "code",
      "execution_count": 11,
      "metadata": {
        "colab": {
          "base_uri": "https://localhost:8080/"
        },
        "id": "J-ANBzw19kVn",
        "outputId": "1c4655e4-962c-4ec9-9f7e-8b48e516df2a"
      },
      "outputs": [
        {
          "output_type": "stream",
          "name": "stdout",
          "text": [
            "Enter student name (or 'done' to finish): 6763\n",
            "Invalid input: Name cannot contain numbers.. Please enter a valid name.\n",
            "Enter student name (or 'done' to finish): Jasddi\n",
            "Enter Jasddi's score in Math: 87k\n",
            "Invalid input: could not convert string to float: '87k'. Please enter a numeric score between 0 and 100.\n",
            "Enter Jasddi's score in Math: 76\n",
            "Enter Jasddi's score in Science: 89\n",
            "Enter Jasddi's score in English: 92\n",
            "Enter student name (or 'done' to finish): lorkii\n",
            "Enter lorkii's score in Math: 79\n",
            "Enter lorkii's score in Science: 75\n",
            "Enter lorkii's score in English: 87\n",
            "Enter student name (or 'done' to finish): done\n",
            "\n",
            "Student Performance:\n",
            "Student: Jasddi, Average: 85.67, Status: Passing\n",
            "Student: lorkii, Average: 80.33, Status: Passing\n",
            "\n",
            "Class Average: 83.00\n"
          ]
        }
      ],
      "source": [
        "class Student:\n",
        "    def __init__(self, name, scores):\n",
        "        self.name = name\n",
        "        self.scores = scores\n",
        "\n",
        "    def calculate_average(self):\n",
        "        total = sum(self.scores)\n",
        "        return total / len(self.scores)\n",
        "\n",
        "    def is_passing(self):\n",
        "        return self.calculate_average() >= 60\n",
        "\n",
        "\n",
        "class PerformanceTracker:\n",
        "    def __init__(self):\n",
        "        self.students = []\n",
        "\n",
        "    def add_student(self, name, scores):\n",
        "        student = Student(name, scores)\n",
        "        self.students.append(student)\n",
        "\n",
        "    def calculate_class_average(self):\n",
        "        if not self.students:\n",
        "            return 0\n",
        "        total_average = sum(student.calculate_average() for student in self.students)\n",
        "        return total_average / len(self.students)\n",
        "\n",
        "    def display_student_performance(self):\n",
        "        for student in self.students:\n",
        "            average = student.calculate_average()\n",
        "            status = \"Passing\" if student.is_passing() else \"Failing\"\n",
        "            print(f\"Student: {student.name}, Average: {average:.2f}, Status: {status}\")\n",
        "\n",
        "def main():\n",
        "    tracker = PerformanceTracker()\n",
        "\n",
        "    while True:\n",
        "        try:\n",
        "            name = input(\"Enter student name (or 'done' to finish): \")\n",
        "            if name.lower() == 'done':\n",
        "                break\n",
        "            if any(char.isdigit() for char in name):\n",
        "                raise ValueError(\"Name cannot contain numbers.\")\n",
        "        except ValueError as e:\n",
        "            print(f\"Invalid input: {e}. Please enter a valid name.\")\n",
        "            continue\n",
        "\n",
        "        scores = []\n",
        "        for subject in ['Math', 'Science', 'English']:\n",
        "            while True:\n",
        "                try:\n",
        "                    score = float(input(f\"Enter {name}'s score in {subject}: \"))\n",
        "                    if score < 0 or score > 100:\n",
        "                        raise ValueError(\"Score must be between 0 and 100.\")\n",
        "                    scores.append(score)\n",
        "                    break\n",
        "                except ValueError as e:\n",
        "                    print(f\"Invalid input: {e}. Please enter a numeric score between 0 and 100.\")\n",
        "\n",
        "        tracker.add_student(name, scores)\n",
        "\n",
        "    print(\"\\nStudent Performance:\")\n",
        "    tracker.display_student_performance()\n",
        "\n",
        "    class_average = tracker.calculate_class_average()\n",
        "    print(f\"\\nClass Average: {class_average:.2f}\")\n",
        "\n",
        "\n",
        "if __name__ == \"__main__\":\n",
        "    main()\n",
        "\n"
      ]
    }
  ]
}